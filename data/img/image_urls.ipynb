{
 "cells": [
  {
   "cell_type": "code",
   "execution_count": 1,
   "id": "7a18fbbf-03c4-4f7c-8c28-f6c4bc658023",
   "metadata": {},
   "outputs": [],
   "source": [
    "import requests\n",
    "from bs4 import BeautifulSoup\n",
    "import json"
   ]
  },
  {
   "cell_type": "code",
   "execution_count": 2,
   "id": "cf404233-3304-4577-93f0-a3b0baefd7f7",
   "metadata": {},
   "outputs": [],
   "source": [
    "def get_img_from_profile(profile_url):\n",
    "    r = requests.get(profile_url)\n",
    "    soup = BeautifulSoup(r.text, 'html.parser')\n",
    "    path = [img for img in soup.select(\"img.img-responsive\") if img[\"alt\"] != \"\"][0][\"data-img-md-normal\"]\n",
    "    return \"https://www.bundestag.de\" + path"
   ]
  },
  {
   "cell_type": "code",
   "execution_count": 3,
   "id": "0a137ed8-e798-49e3-913b-3f4c39b4165a",
   "metadata": {},
   "outputs": [],
   "source": [
    "with open(\"urls.json\", \"r\") as f:\n",
    "    data = json.load(f);"
   ]
  },
  {
   "cell_type": "code",
   "execution_count": 4,
   "id": "9f20d8e9-8486-42d2-a195-d6b3ce75ddfe",
   "metadata": {},
   "outputs": [
    {
     "name": "stdout",
     "output_type": "stream",
     "text": [
      "748 / 748"
     ]
    }
   ],
   "source": [
    "for idx, d in enumerate(data):\n",
    "    print(f\"\\r{idx+1} / {len(data)}\", end=\"\")\n",
    "    d[\"img\"] = get_img_from_profile(d[\"url\"])"
   ]
  },
  {
   "cell_type": "code",
   "execution_count": 5,
   "id": "50363b2e-9314-4013-b5b9-61f6a5a91af9",
   "metadata": {},
   "outputs": [],
   "source": [
    "with open(\"urls.json\", \"w\") as outfile:\n",
    "    json.dump(data, outfile, indent = 4, ensure_ascii = False)"
   ]
  },
  {
   "cell_type": "code",
   "execution_count": 6,
   "id": "2680e0b9-b7b5-4fad-9141-44eb99f31a37",
   "metadata": {},
   "outputs": [
    {
     "data": {
      "text/plain": [
       "[{'name': 'Abercron, Dr. Michael von',\n",
       "  'url': 'https://www.bundestag.de/abgeordnete/biografien/A/517818-517818',\n",
       "  'img': 'https://www.bundestag.de/resource/image/517814/3x4/284/379/44705ba6437fdb469214524dfc06a477/UK/abercron_ernst_michael_gross.jpg'},\n",
       " {'name': 'Achelwilm, Doris',\n",
       "  'url': 'https://www.bundestag.de/abgeordnete/biografien/A/517820-517820',\n",
       "  'img': 'https://www.bundestag.de/resource/image/526142/3x4/284/379/ee875f542984d08ba149023f7abc4d81/ZJ/achelwilm_doris_gross.png'},\n",
       " {'name': 'Aggelidis, Grigorios',\n",
       "  'url': 'https://www.bundestag.de/abgeordnete/biografien/A/517836-517836',\n",
       "  'img': 'https://www.bundestag.de/resource/image/527060/3x4/284/379/8b7483738680fc1b7b616540a5a61fc2/yy/aggelidis_grigorios_gross.jpg'},\n",
       " {'name': 'Akbulut, Gökay',\n",
       "  'url': 'https://www.bundestag.de/abgeordnete/biografien/A/517852-517852',\n",
       "  'img': 'https://www.bundestag.de/resource/image/517848/3x4/284/379/d33861d349d2ff4ffee9cdc22e3112a4/fC/akbulut_goekay_gross.jpg'},\n",
       " {'name': 'Albani, Stephan',\n",
       "  'url': 'https://www.bundestag.de/abgeordnete/biografien/A/albani_stephan-517864',\n",
       "  'img': 'https://www.bundestag.de/resource/image/517860/3x4/284/379/3d1b75d0a10a96be14b90c5ab6830c2f/zH/albani_stephan_gross.jpg'}]"
      ]
     },
     "execution_count": 6,
     "metadata": {},
     "output_type": "execute_result"
    }
   ],
   "source": [
    "data[:5]"
   ]
  },
  {
   "cell_type": "code",
   "execution_count": null,
   "id": "4d40e208-f94b-4956-9f19-20774fd6a698",
   "metadata": {},
   "outputs": [],
   "source": []
  }
 ],
 "metadata": {
  "kernelspec": {
   "display_name": "Python 3",
   "language": "python",
   "name": "python3"
  },
  "language_info": {
   "codemirror_mode": {
    "name": "ipython",
    "version": 3
   },
   "file_extension": ".py",
   "mimetype": "text/x-python",
   "name": "python",
   "nbconvert_exporter": "python",
   "pygments_lexer": "ipython3",
   "version": "3.9.6"
  }
 },
 "nbformat": 4,
 "nbformat_minor": 5
}
