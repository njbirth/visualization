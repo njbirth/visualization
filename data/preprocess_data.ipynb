{
 "cells": [
  {
   "cell_type": "markdown",
   "metadata": {
    "tags": []
   },
   "source": [
    "### Process person data"
   ]
  },
  {
   "cell_type": "markdown",
   "metadata": {
    "tags": []
   },
   "source": [
    "#### Auxiliary functions"
   ]
  },
  {
   "cell_type": "code",
   "execution_count": 1,
   "metadata": {
    "tags": []
   },
   "outputs": [],
   "source": [
    "# We need this function to replace all occurences of {'-self-closing': 'true'} by None.\n",
    "def remove_self_closing(elem):\n",
    "    if type(elem) != dict and type(elem) != list:\n",
    "        return\n",
    "    \n",
    "    if type(elem) == list:\n",
    "        for idx, value in enumerate(elem):\n",
    "            if value == {'-self-closing': 'true'}:\n",
    "                elem[key] = None\n",
    "            elif type(value) == dict or type(value) == list:\n",
    "                remove_self_closing(value)\n",
    "    \n",
    "    if type(elem) == dict:\n",
    "        for (key, value) in elem.items():\n",
    "            if value == {'-self-closing': 'true'}:\n",
    "                elem[key] = None\n",
    "            elif type(value) == dict  or type(value) == list:\n",
    "                remove_self_closing(value)"
   ]
  },
  {
   "cell_type": "markdown",
   "metadata": {
    "tags": []
   },
   "source": [
    "#### Import converted/MDB_STAMMDATEN.json, reorganize the data and remove parts that are not interesting for us"
   ]
  },
  {
   "cell_type": "code",
   "execution_count": 6,
   "metadata": {
    "tags": []
   },
   "outputs": [],
   "source": [
    "import json\n",
    "\n",
    "with open(\"__converted/MDB_STAMMDATEN.json\", \"r\") as f:\n",
    "    data = json.load(f);\n",
    "\n",
    "persons_raw = data[\"DOCUMENT\"][\"MDB\"]\n",
    "\n",
    "persons = []\n",
    "for p in persons_raw:\n",
    "    person = {}\n",
    "    \n",
    "    name = p[\"NAMEN\"][\"NAME\"]\n",
    "    name = name[-1] if type(name) == list else name\n",
    "    bio = p[\"BIOGRAFISCHE_ANGABEN\"]\n",
    "    wp_raw = p[\"WAHLPERIODEN\"][\"WAHLPERIODE\"]\n",
    "    wp_raw = [wp_raw] if type(wp_raw) != list else wp_raw\n",
    "    \n",
    "    # We don't need the data if the person is/was not a MP in the current term\n",
    "    if \"19\" not in [wp[\"WP\"] for wp in wp_raw]:\n",
    "        continue\n",
    "    \n",
    "    person[\"nachname\"]      = name[\"NACHNAME\"]\n",
    "    person[\"vorname\"]       = name[\"VORNAME\"]\n",
    "    person[\"geburtsdatum\"]  = bio[\"GEBURTSDATUM\"]\n",
    "    person[\"geburtsort\"]    = bio[\"GEBURTSORT\"]\n",
    "    person[\"sterbedatum\"]   = bio[\"STERBEDATUM\"]\n",
    "    person[\"partei\"]        = bio[\"PARTEI_KURZ\"]\n",
    "    person[\"geschlecht\"]    = bio[\"GESCHLECHT\"]\n",
    "    person[\"familienstand\"] = bio[\"FAMILIENSTAND\"]\n",
    "    person[\"religion\"]      = bio[\"RELIGION\"]\n",
    "    person[\"beruf\"]         = bio[\"BERUF\"]\n",
    "    person[\"anrede_titel\"]  = name[\"ANREDE_TITEL\"]\n",
    "    person[\"akad_titel\"]    = name[\"AKAD_TITEL\"]\n",
    "    person[\"vita\"]          = bio[\"VITA_KURZ\"]\n",
    "        \n",
    "    wahlperioden = {}\n",
    "    for wp in wp_raw:\n",
    "        wahlperiode = {}\n",
    "        wahlperiode[\"md_von\"]     = wp[\"MDBWP_VON\"]\n",
    "        wahlperiode[\"md_bis\"]     = wp[\"MDBWP_BIS\"]\n",
    "        wahlperiode[\"liste\"]      = wp[\"LISTE\"]\n",
    "        wahlperiode[\"mandatsart\"] = wp[\"MANDATSART\"]\n",
    "        wahlperiode[\"wkr_land\"]   = wp[\"WKR_LAND\"]\n",
    "        wahlperiode[\"wkr_name\"]   = wp[\"WKR_NAME\"]\n",
    "        wahlperiode[\"wkr_nummer\"] = wp[\"WKR_NUMMER\"]\n",
    "        \n",
    "        institutionen = wp[\"INSTITUTIONEN\"][\"INSTITUTION\"]\n",
    "        institutionen = [institutionen] if type(institutionen) != list else institutionen\n",
    "        wahlperiode[\"institutionen\"] = institutionen\n",
    "        \n",
    "        wahlperioden[wp[\"WP\"]] = wahlperiode\n",
    "        \n",
    "    person[\"wahlperioden\"] = wahlperioden\n",
    "            \n",
    "    for (key, value) in person.items():\n",
    "        if value == {'-self-closing': 'true'}:\n",
    "            person[key] = None\n",
    "\n",
    "    remove_self_closing(persons)\n",
    "    \n",
    "    persons.append(person)"
   ]
  },
  {
   "cell_type": "markdown",
   "metadata": {},
   "source": [
    "#### Export data to final/stammdaten.json"
   ]
  },
  {
   "cell_type": "code",
   "execution_count": 7,
   "metadata": {},
   "outputs": [],
   "source": [
    "with open(\"___final/stammdaten.json\", \"w\") as outfile:\n",
    "    json.dump(persons, outfile, indent = 4, ensure_ascii = False)"
   ]
  },
  {
   "cell_type": "markdown",
   "metadata": {},
   "source": [
    "#### Other stuff"
   ]
  },
  {
   "cell_type": "code",
   "execution_count": 4,
   "metadata": {},
   "outputs": [],
   "source": [
    "# Make sure there are not duplicate names (because we want to use them as id)\n",
    "for i in range(len(persons)):\n",
    "    for j in range(i+1, len(persons)):\n",
    "        p1 = persons[i]\n",
    "        p2 = persons[j]\n",
    "        if p1[\"nachname\"] == p2[\"nachname\"] and p1[\"vorname\"] == p2[\"vorname\"]:\n",
    "            print(p1[\"nachname\"], p1[\"vorname\"])"
   ]
  },
  {
   "cell_type": "markdown",
   "metadata": {},
   "source": [
    "### Process vote data"
   ]
  },
  {
   "cell_type": "code",
   "execution_count": null,
   "metadata": {},
   "outputs": [],
   "source": []
  }
 ],
 "metadata": {
  "kernelspec": {
   "display_name": "Python 3",
   "language": "python",
   "name": "python3"
  },
  "language_info": {
   "codemirror_mode": {
    "name": "ipython",
    "version": 3
   },
   "file_extension": ".py",
   "mimetype": "text/x-python",
   "name": "python",
   "nbconvert_exporter": "python",
   "pygments_lexer": "ipython3",
   "version": "3.9.6"
  }
 },
 "nbformat": 4,
 "nbformat_minor": 4
}
