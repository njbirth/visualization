{
 "cells": [
  {
   "cell_type": "code",
   "execution_count": 1,
   "id": "574eeb04-966f-4c6a-a23e-47d6824964e9",
   "metadata": {},
   "outputs": [],
   "source": [
    "import json\n",
    "import pandas as pd"
   ]
  },
  {
   "cell_type": "code",
   "execution_count": 2,
   "id": "72d35597-095b-4f15-89be-463fe5d7724d",
   "metadata": {},
   "outputs": [],
   "source": [
    "df = pd.read_csv(\"btw17_kerg_nachbearbeitet.csv\", sep=\";\")\n",
    "#df"
   ]
  },
  {
   "cell_type": "code",
   "execution_count": 3,
   "id": "5aa43960-e7df-44a5-be10-a81b0114879a",
   "metadata": {},
   "outputs": [],
   "source": [
    "#df[df.isna().any(axis=1)]"
   ]
  },
  {
   "cell_type": "code",
   "execution_count": 4,
   "id": "bd160b64-1b24-42ac-abf3-3490204d9e33",
   "metadata": {},
   "outputs": [],
   "source": [
    "# Set values to 0 if NaN (only happens in Erststimmen)\n",
    "df = df.fillna(0)\n",
    "#df[df.isna().any(axis=1)]"
   ]
  },
  {
   "cell_type": "code",
   "execution_count": 5,
   "id": "8e648b46-5ad1-40d5-9828-b3c535f35f6e",
   "metadata": {},
   "outputs": [],
   "source": [
    "# Remove Bundesländer/Bundesgebiet\n",
    "df = df[~((df[\"gehört zu\"] == 99) | (df[\"gehört zu\"] == -1))]\n",
    "# Convert to Python map\n",
    "data = json.loads(df.to_json(orient = \"records\"))\n",
    "\n",
    "new_data = []\n",
    "for kreis in data:\n",
    "    new_kreis = {}\n",
    "    erststimmen = {}\n",
    "    zweitstimmen = {}\n",
    "    \n",
    "    new_kreis[\"erststimmen_ungültig\"] = kreis[\"Ungültige_Erststimmen\"]\n",
    "    new_kreis[\"erststimmen_gültig\"]   = kreis[\"Gültige_Erststimmen\"]\n",
    "    \n",
    "    erststimmen[\"CDU/CSU\"]    = kreis[\"CDU/CSU_Erststimmen\"]\n",
    "    erststimmen[\"SPD\"]        = kreis[\"SPD_Erststimmen\"]\n",
    "    erststimmen[\"GRÜNE\"]      = kreis[\"GRÜNE_Erststimmen\"]\n",
    "    erststimmen[\"DIE LINKE.\"] = kreis[\"DIE LINKE_Erststimmen\"]\n",
    "    erststimmen[\"FDP\"]        = kreis[\"FDP_Erststimmen\"]\n",
    "    erststimmen[\"AfD\"]        = kreis[\"AfD_Erststimmen\"]\n",
    "    \n",
    "    new_kreis[\"zweitstimmen_ungültig\"] = kreis[\"Ungültige_Zweitstimmen\"]\n",
    "    new_kreis[\"zweitstimmen_gültig\"]   = kreis[\"Gültige_Zweitstimmen\"]\n",
    "    \n",
    "    zweitstimmen[\"CDU/CSU\"]    = kreis[\"CDU/CSU_Zweitstimmen\"]\n",
    "    zweitstimmen[\"SPD\"]        = kreis[\"SPD_Zweitstimmen\"]\n",
    "    zweitstimmen[\"GRÜNE\"]      = kreis[\"GRÜNE_Zweitstimmen\"]\n",
    "    zweitstimmen[\"DIE LINKE.\"] = kreis[\"DIE LINKE_Zweitstimmen\"]\n",
    "    zweitstimmen[\"FDP\"]        = kreis[\"FDP_Zweitstimmen\"]\n",
    "    zweitstimmen[\"AfD\"]        = kreis[\"AfD_Zweitstimmen\"]\n",
    "    \n",
    "    new_kreis[\"nr\"]              = kreis[\"Nr\"]\n",
    "    new_kreis[\"gebiet\"]          = kreis[\"Gebiet\"]\n",
    "    new_kreis[\"gehört_zu\"]       = kreis[\"gehört zu\"]\n",
    "    new_kreis[\"wahlberechtigte\"] = kreis[\"Wahlberechtigte\"]\n",
    "    new_kreis[\"wähler\"]          = kreis[\"Wähler\"]\n",
    "    new_kreis[\"erststimmen\"]     = erststimmen\n",
    "    new_kreis[\"zweitstimmen\"]    = zweitstimmen\n",
    "    \n",
    "    new_data.append(new_kreis)\n",
    "    \n",
    "#new_data"
   ]
  },
  {
   "cell_type": "code",
   "execution_count": 6,
   "id": "5d67e162-4793-4bb8-92f8-fab4b1fed17b",
   "metadata": {},
   "outputs": [],
   "source": [
    "with open(\"wahlkreise_stimmen.json\", \"w\") as outfile:\n",
    "    json.dump(new_data, outfile, indent = 4, ensure_ascii = False)"
   ]
  }
 ],
 "metadata": {
  "kernelspec": {
   "display_name": "Python 3",
   "language": "python",
   "name": "python3"
  },
  "language_info": {
   "codemirror_mode": {
    "name": "ipython",
    "version": 3
   },
   "file_extension": ".py",
   "mimetype": "text/x-python",
   "name": "python",
   "nbconvert_exporter": "python",
   "pygments_lexer": "ipython3",
   "version": "3.9.6"
  }
 },
 "nbformat": 4,
 "nbformat_minor": 5
}
